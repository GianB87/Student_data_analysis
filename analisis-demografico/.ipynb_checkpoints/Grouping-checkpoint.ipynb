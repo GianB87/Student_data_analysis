{
 "cells": [
  {
   "cell_type": "code",
   "execution_count": null,
   "id": "cea120fa",
   "metadata": {},
   "outputs": [],
   "source": [
    "import os\n",
    "import sys\n",
    "import numpy as np\n",
    "import pandas as pd\n",
    "import openpyxl\n",
    "import matplotlib.pyplot as plt\n",
    "import seaborn as sns\n",
    "import difflib\n",
    "%matplotlib inline"
   ]
  },
  {
   "cell_type": "code",
   "execution_count": null,
   "id": "6c4732e5",
   "metadata": {},
   "outputs": [],
   "source": [
    "df_cm = pd.read_excel('../carreras_materias.xlsx')"
   ]
  },
  {
   "cell_type": "code",
   "execution_count": null,
   "id": "8aba2cc3",
   "metadata": {},
   "outputs": [],
   "source": [
    "df = pd.read_excel('../tunned_student_data.xlsx')\n",
    "df = df[(df[df.columns[61:63]] != 0).all(1)]\n",
    "df.rename(columns=lambda x: x[:30], inplace=True)\n",
    "# Deleting TRAPECISM row\n",
    "df.drop(df[(df['carrera'] == 'TRAPECISMO')].index, inplace = True)\n",
    "\n",
    "\n",
    "df = df.reset_index(drop=True)\n",
    "\n",
    "\n",
    "\n",
    "df_demographic = df[df.columns[:5]]\n",
    "df_control_a = df[df.columns[5:8]]\n",
    "df_control_b = df[df.columns[8:10]]\n",
    "df_control_d = df[df.columns[10:13]]\n",
    "df_control_f = df[df.columns[13:23]]\n",
    "\n",
    "# It seems to belong to another poll\n",
    "df_demographic_2 = df[df.columns[23:26]]\n",
    "df_open_answer = df[df.columns[26:29]]\n",
    "df_control_g = df[df.columns[29:31]]\n",
    "\n",
    "df_unknown = df[df.columns[31:33]]\n",
    "df_control_e = df[df.columns[33:36]]\n",
    "df_x_a = df[df.columns[36:43]]\n",
    "df_x_b = df[df.columns[43:46]]\n",
    "df_x_c = df[df.columns[46:52]]\n",
    "df_x_d = df[df.columns[52:55]]\n",
    "df_satisfaction = df[df.columns[55:60]]\n",
    "df_relative_student = df[df.columns[60:]]\n"
   ]
  },
  {
   "cell_type": "markdown",
   "id": "4f48d057",
   "metadata": {},
   "source": [
    "## Fixing Carrers column"
   ]
  },
  {
   "cell_type": "code",
   "execution_count": null,
   "id": "875bf519",
   "metadata": {},
   "outputs": [],
   "source": [
    "carreras = df_cm.Carreras\n",
    "carreras = tuple(carreras[~carreras.isnull()])\n",
    "asignaturas = list(df_cm.TITULO)"
   ]
  },
  {
   "cell_type": "code",
   "execution_count": null,
   "id": "f70cc5ec",
   "metadata": {
    "scrolled": true
   },
   "outputs": [],
   "source": [
    "correct_carrer = []\n",
    "for carrer in df.carrera:\n",
    "    if 'ici' in carrer.lower():\n",
    "        carrer = 'Ingeniería Civil Industrial'\n",
    "    if carrer == 'Pedagogia educacion en basica ' or carrer == 'Pedagogía General Básica ':\n",
    "        carrer = 'Pedagogía en Educación Básica con Especialización'\n",
    "    if carrer == 'Lic. Física':\n",
    "        carrer = 'Licenciatura en Física con mención en Astronomía'\n",
    "    if carrer=='Ing en computación' or carrer=='ICCI' or carrer=='Civil Informática' or carrer=='Ing. civil informatica':\n",
    "        carrer = 'Ingeniería Civil en Computación e Informática'\n",
    "    match = difflib.get_close_matches(carrer.lower(),carreras)\n",
    "    if match:\n",
    "        correct_carrer.append(match[0])\n",
    "df.carrera = correct_carrer\n",
    "df.carrera.value_counts().plot.pie()"
   ]
  },
  {
   "cell_type": "markdown",
   "id": "bae8c97f",
   "metadata": {},
   "source": [
    "## Fixing Asignatura Column\n",
    "* The one who put 'Ninguna' refers to all asignaturas"
   ]
  },
  {
   "cell_type": "code",
   "execution_count": null,
   "id": "d4449183",
   "metadata": {},
   "outputs": [],
   "source": [
    "correct_asig = []\n",
    "for asig in df['nombre de la asignatura']:\n",
    "    if 'Calculo, semestre 1, paralelo C5' in asig:\n",
    "        asig = 'Calculo I'\n",
    "    match = difflib.get_close_matches(asig,asignaturas)\n",
    "    if match:\n",
    "        correct_asig.append(match[0])\n",
    "    else:\n",
    "        correct_asig.append(asig)\n",
    "        print(asig)"
   ]
  },
  {
   "cell_type": "code",
   "execution_count": null,
   "id": "fab315bc",
   "metadata": {
    "scrolled": false
   },
   "outputs": [],
   "source": [
    "df['nombre de la asignatura'] = correct_asig\n",
    "df['nombre de la asignatura'].value_counts().plot.pie()"
   ]
  },
  {
   "cell_type": "markdown",
   "id": "103e20ab",
   "metadata": {},
   "source": [
    "## Separación por semestre"
   ]
  },
  {
   "cell_type": "code",
   "execution_count": null,
   "id": "aba1b874",
   "metadata": {
    "scrolled": true
   },
   "outputs": [],
   "source": [
    "df['¿qué semestre está cursando?'].value_counts().plot.pie()"
   ]
  },
  {
   "cell_type": "markdown",
   "id": "7125a149",
   "metadata": {},
   "source": [
    "## Separación por edad"
   ]
  },
  {
   "cell_type": "code",
   "execution_count": null,
   "id": "edaab668",
   "metadata": {
    "scrolled": true
   },
   "outputs": [],
   "source": [
    "df[df.columns[0]].value_counts().plot.pie()"
   ]
  },
  {
   "cell_type": "markdown",
   "id": "230589ca",
   "metadata": {},
   "source": [
    "## Separacion por Genero"
   ]
  },
  {
   "cell_type": "code",
   "execution_count": null,
   "id": "d5cc564e",
   "metadata": {
    "scrolled": true
   },
   "outputs": [],
   "source": [
    "df[df.columns[1]].value_counts().plot.pie()"
   ]
  },
  {
   "cell_type": "markdown",
   "id": "af419e26",
   "metadata": {},
   "source": [
    "## Separacion por establecimiento Educacional"
   ]
  },
  {
   "cell_type": "code",
   "execution_count": null,
   "id": "5d7466c0",
   "metadata": {
    "scrolled": true
   },
   "outputs": [],
   "source": [
    "df[df.columns[2]].value_counts().plot.pie()"
   ]
  },
  {
   "cell_type": "markdown",
   "id": "324f81f2",
   "metadata": {},
   "source": [
    "## Separación por PSU / PDT"
   ]
  },
  {
   "cell_type": "code",
   "execution_count": null,
   "id": "52b8bcab",
   "metadata": {
    "scrolled": false
   },
   "outputs": [],
   "source": [
    "df[df.columns[3]].value_counts().plot.pie()"
   ]
  },
  {
   "cell_type": "markdown",
   "id": "85e6da48",
   "metadata": {},
   "source": [
    "## Separacion por promedio notas colegio/escuela"
   ]
  },
  {
   "cell_type": "code",
   "execution_count": null,
   "id": "ea8d5a9c",
   "metadata": {},
   "outputs": [],
   "source": [
    "df[df.columns[4]].value_counts().plot.pie()"
   ]
  },
  {
   "cell_type": "code",
   "execution_count": null,
   "id": "0d77c19b",
   "metadata": {},
   "outputs": [],
   "source": [
    "cleanup_nums = {\"comparado con otros estudiante\":     {\"Mejor\": 1, \"Peor\": 0},\n",
    "                \"mi nota final del curso, ¿en q\": {\"Dentro de las más altas del curso.\": 5, \n",
    "                                                   \"En el promedio.\": 3, \n",
    "                                                   \"Levemente sobre el promedio.\": 4, \n",
    "                                                   \"Levemente bajo el promedio.\": 2,\n",
    "                                                   \"Dentro de las notas más bajas del curso.\": 1}}"
   ]
  },
  {
   "cell_type": "code",
   "execution_count": null,
   "id": "068989b1",
   "metadata": {
    "scrolled": true
   },
   "outputs": [],
   "source": [
    "df = df.replace(cleanup_nums)\n",
    "df.head()"
   ]
  },
  {
   "cell_type": "code",
   "execution_count": null,
   "id": "36c549b8",
   "metadata": {},
   "outputs": [],
   "source": [
    "difflib.get_close_matches('administracion producción II',asignaturas)"
   ]
  },
  {
   "cell_type": "code",
   "execution_count": null,
   "id": "fbcde2ed",
   "metadata": {},
   "outputs": [],
   "source": [
    "import os\n",
    "module_path = os.path.abspath(os.path.join('..'))\n",
    "if not os.path.isfile(module_path + '/data_to_model.xlsx'):\n",
    "    df.to_excel(r'../data_to_model.xlsx', index = False)"
   ]
  },
  {
   "cell_type": "code",
   "execution_count": null,
   "id": "4b45a47d",
   "metadata": {},
   "outputs": [],
   "source": []
  }
 ],
 "metadata": {
  "kernelspec": {
   "display_name": "Python 3 (ipykernel)",
   "language": "python",
   "name": "python3"
  },
  "language_info": {
   "codemirror_mode": {
    "name": "ipython",
    "version": 3
   },
   "file_extension": ".py",
   "mimetype": "text/x-python",
   "name": "python",
   "nbconvert_exporter": "python",
   "pygments_lexer": "ipython3",
   "version": "3.9.6"
  }
 },
 "nbformat": 4,
 "nbformat_minor": 5
}
